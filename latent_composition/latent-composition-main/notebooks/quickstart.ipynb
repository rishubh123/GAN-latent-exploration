{
 "cells": [
  {
   "cell_type": "code",
   "execution_count": null,
   "metadata": {},
   "outputs": [],
   "source": [
    "%env CUDA_DEVICE_ORDER=PCI_BUS_ID\n",
    "%env CUDA_VISIBLE_DEVICES=0"
   ]
  },
  {
   "cell_type": "code",
   "execution_count": null,
   "metadata": {},
   "outputs": [],
   "source": [
    "import torch\n",
    "from networks import networks\n",
    "from PIL import Image\n",
    "from utils import show, renormalize, compositions, masking, imutil\n",
    "import matplotlib.pyplot as plt\n",
    "import numpy as np\n",
    "import os"
   ]
  },
  {
   "cell_type": "markdown",
   "metadata": {},
   "source": [
    "### load the GAN, encoder, and part extractor"
   ]
  },
  {
   "cell_type": "code",
   "execution_count": null,
   "metadata": {},
   "outputs": [],
   "source": [
    "gtype = 'stylegan'\n",
    "domain = 'car'\n",
    "nets = networks.define_nets(gtype, domain)\n",
    "compositer = compositions.get_compositer(domain)(nets)"
   ]
  },
  {
   "cell_type": "markdown",
   "metadata": {},
   "source": [
    "### visualize the reconstruction, and masked reconstruction"
   ]
  },
  {
   "cell_type": "code",
   "execution_count": null,
   "metadata": {},
   "outputs": [],
   "source": [
    "with torch.no_grad():\n",
    "    im = nets.seed2image(1,seed=10)\n",
    "    show.a(['Input Image', renormalize.as_image(im[0]).resize((256, 256), Image.ANTIALIAS)])\n",
    "    rec = nets.invert(im, mask=None)\n",
    "    show.a(['Reconstructed', renormalize.as_image(rec[0]).resize((256, 256), Image.ANTIALIAS)])\n",
    "    show.flush()\n",
    "    hints, mask = masking.mask_upsample(im, mask_cent=0.5 if gtype == 'proggan' else 0.)\n",
    "    rec_mask = nets.invert(hints, mask=mask)\n",
    "    show.a(['Input Masked', renormalize.as_image(hints[0]).resize((256, 256), Image.ANTIALIAS)])\n",
    "    show.a(['Rec. Masked', renormalize.as_image(rec_mask[0]).resize((256, 256), Image.ANTIALIAS)])\n",
    "    show.flush()"
   ]
  },
  {
   "cell_type": "markdown",
   "metadata": {},
   "source": [
    "### randomly sample image parts, and compose them"
   ]
  },
  {
   "cell_type": "code",
   "execution_count": null,
   "metadata": {},
   "outputs": [],
   "source": [
    "rng = np.random.RandomState(0)\n",
    "indices = rng.choice(compositer.total_samples,\n",
    "                     len(compositer.ordered_labels))\n",
    "with torch.no_grad():\n",
    "    composite_data = compositer(indices)"
   ]
  },
  {
   "cell_type": "code",
   "execution_count": null,
   "metadata": {},
   "outputs": [],
   "source": [
    "for im, m in zip(composite_data.parts_image, composite_data.parts_mask):\n",
    "    show.a([renormalize.as_image(im).resize((128, 128), Image.ANTIALIAS)], cols=6)\n",
    "    a, b, c = imutil.draw_masked_image(im[None], m[None], size=128)\n",
    "    show.a([c], cols=6)\n",
    "show.flush()"
   ]
  },
  {
   "cell_type": "code",
   "execution_count": null,
   "metadata": {},
   "outputs": [],
   "source": [
    "show.a(['Network Input', renormalize.as_image(composite_data.composite_image[0]).resize((256, 256), Image.ANTIALIAS)])\n",
    "show.a(['Network Output', renormalize.as_image(composite_data.inverted_RGBM[0]).resize((256, 256), Image.ANTIALIAS)])\n",
    "show.flush()"
   ]
  }
 ],
 "metadata": {
  "kernelspec": {
   "display_name": "latent-composition",
   "language": "python",
   "name": "latent-composition"
  },
  "language_info": {
   "codemirror_mode": {
    "name": "ipython",
    "version": 3
   },
   "file_extension": ".py",
   "mimetype": "text/x-python",
   "name": "python",
   "nbconvert_exporter": "python",
   "pygments_lexer": "ipython3",
   "version": "3.8.8"
  }
 },
 "nbformat": 4,
 "nbformat_minor": 4
}
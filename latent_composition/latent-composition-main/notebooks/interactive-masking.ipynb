{
 "cells": [
  {
   "cell_type": "code",
   "execution_count": null,
   "metadata": {},
   "outputs": [],
   "source": [
    "%env CUDA_DEVICE_ORDER=PCI_BUS_ID\n",
    "%env CUDA_VISIBLE_DEVICES=0"
   ]
  },
  {
   "cell_type": "code",
   "execution_count": null,
   "metadata": {},
   "outputs": [],
   "source": [
    "import torch\n",
    "import numpy as np\n",
    "from utils import show, renormalize, pbar\n",
    "from utils import util, paintwidget, labwidget, imutil\n",
    "from networks import networks\n",
    "from PIL import Image\n",
    "import os\n",
    "import skvideo.io\n",
    "from torchvision import transforms\n",
    "import time"
   ]
  },
  {
   "cell_type": "markdown",
   "metadata": {},
   "source": [
    "### load networks"
   ]
  },
  {
   "cell_type": "code",
   "execution_count": null,
   "metadata": {},
   "outputs": [],
   "source": [
    "nets = networks.define_nets('stylegan', 'car')\n",
    "outdim = nets.setting['outdim']"
   ]
  },
  {
   "cell_type": "markdown",
   "metadata": {},
   "source": [
    "### sample an image, and reencode it"
   ]
  },
  {
   "cell_type": "code",
   "execution_count": null,
   "metadata": {},
   "outputs": [],
   "source": [
    "use_g_sample = True\n",
    "if use_g_sample:\n",
    "    # use a gan image as source, change n or seed to get a different image\n",
    "    n = 56\n",
    "    seed = 0\n",
    "    with torch.no_grad():\n",
    "        source_z = nets.sample_zs(n+1, seed=0)[n][None]\n",
    "        source_im = nets.zs2image(source_z)\n",
    "    show(['Source Image', renormalize.as_image(source_im[0]).resize((256, 256), Image.LANCZOS)])\n",
    "else:\n",
    "    # use a real image as source\n",
    "    im_path = 'img/car0.png'\n",
    "    transform = transforms.Compose([\n",
    "                    transforms.Resize(outdim),\n",
    "                    transforms.CenterCrop(outdim),\n",
    "                    transforms.ToTensor(),\n",
    "                    transforms.Normalize((0.5, 0.5, 0.5), (0.5, 0.5, 0.5))\n",
    "                ])    \n",
    "    source_im = transform(Image.open(im_path))[None].cuda()\n",
    "    show(['Source Image', renormalize.as_image(source_im[0]).resize((256, 256), Image.LANCZOS)])"
   ]
  },
  {
   "cell_type": "code",
   "execution_count": null,
   "metadata": {},
   "outputs": [],
   "source": [
    "with torch.no_grad():\n",
    "    out = nets.invert(source_im)\n",
    "    show(['GAN Reconstruction', renormalize.as_image(out[0]).resize((256, 256), Image.LANCZOS)])"
   ]
  },
  {
   "cell_type": "markdown",
   "metadata": {},
   "source": [
    "### visualize network priors\n",
    "You can drag your mouse on the left panel, and the GAN reconstruction will show in the right panel"
   ]
  },
  {
   "cell_type": "code",
   "execution_count": null,
   "metadata": {},
   "outputs": [],
   "source": [
    "src_painter = paintwidget.PaintWidget(oneshot=False, width=256, height=256, \n",
    "                                      brushsize=20, save_sequence=False, track_move=True) # , on_move=True)\n",
    "src_painter.image = renormalize.as_url(source_im[0], size=256)\n",
    "\n",
    "img_url = renormalize.as_url(torch.zeros(3, 256, 256))\n",
    "img_html = '<img src=\"%s\"/>'%img_url\n",
    "output_div = labwidget.Div(img_html)\n",
    "\n",
    "counter = 0\n",
    "prev_time = time.time()\n",
    "update_freq = 0.1 # mouse time intervals 0.05 to 0.07, can change this\n",
    "mask_list = []\n",
    "reconstruction_list = []\n",
    "\n",
    "def probe_changed(c):\n",
    "    global counter\n",
    "    global prev_time\n",
    "    counter += 1\n",
    "    curr_time = time.time()\n",
    "    if curr_time - prev_time < update_freq:\n",
    "        return\n",
    "    prev_time = time.time()\n",
    "    \n",
    "    mask_url = src_painter.mask_buffer\n",
    "    mask =  renormalize.from_url(mask_url, target='pt', size=(outdim, outdim)).cuda()[None] # 1x3xHxW\n",
    "    with torch.no_grad():\n",
    "        mask = mask[:, [0], :, :] # 1x1xHxW\n",
    "        mask_list.append(mask.cpu())\n",
    "        masked_im = source_im * mask\n",
    "        regenerated_mask = nets.invert(masked_im, mask)\n",
    "    img_url = renormalize.as_url(regenerated_mask[0], size=256)\n",
    "    img_html = '<img src=\"%s\"/>'%img_url\n",
    "    output_div.innerHTML = img_html\n",
    "    reconstruction_list.append(renormalize.as_image(regenerated_mask[0]))\n",
    "    \n",
    "src_painter.on('mask_buffer', probe_changed)\n",
    "\n",
    "show.a([src_painter], cols=2)\n",
    "show.a([output_div], cols=2)\n",
    "\n",
    "show.flush()"
   ]
  },
  {
   "cell_type": "markdown",
   "metadata": {},
   "source": [
    "### save the resulting video"
   ]
  },
  {
   "cell_type": "code",
   "execution_count": null,
   "metadata": {},
   "outputs": [],
   "source": [
    "def write_video(file_name, rate='15'):\n",
    "    os.makedirs('drawing/masking', exist_ok=True)\n",
    "    assert(not os.path.isfile('drawing/masking/%s' % file_name))\n",
    "\n",
    "    inputdict = {\n",
    "        '-r': rate\n",
    "    }\n",
    "    outputdict = {\n",
    "        '-pix_fmt': 'yuv420p',\n",
    "        '-r': rate\n",
    "    }\n",
    "    writer = skvideo.io.FFmpegWriter('drawing/masking/%s' % file_name, inputdict, outputdict)\n",
    "\n",
    "    source_im_np = np.array(renormalize.as_image(source_im[0]))\n",
    "    for mask, rec_image in zip(pbar(mask_list), reconstruction_list):\n",
    "        masked_im = renormalize.as_image((source_im.cpu() * mask)[0])\n",
    "        masked_im_np = np.array(masked_im)\n",
    "        rec_im_np = np.array(rec_image)\n",
    "        im_np = np.concatenate([source_im_np, masked_im_np, rec_im_np], axis=1)\n",
    "        writer.writeFrame(im_np)\n",
    "    writer.close()"
   ]
  },
  {
   "cell_type": "code",
   "execution_count": null,
   "metadata": {},
   "outputs": [],
   "source": [
    "write_video('car.mp4', rate='15')"
   ]
  }
 ],
 "metadata": {
  "kernelspec": {
   "display_name": "latent-composition",
   "language": "python",
   "name": "latent-composition"
  },
  "language_info": {
   "codemirror_mode": {
    "name": "ipython",
    "version": 3
   },
   "file_extension": ".py",
   "mimetype": "text/x-python",
   "name": "python",
   "nbconvert_exporter": "python",
   "pygments_lexer": "ipython3",
   "version": "3.8.8"
  }
 },
 "nbformat": 4,
 "nbformat_minor": 2
}
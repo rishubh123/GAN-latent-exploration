{
 "cells": [
  {
   "cell_type": "code",
   "execution_count": null,
   "metadata": {},
   "outputs": [],
   "source": [
    "%env CUDA_DEVICE_ORDER=PCI_BUS_ID\n",
    "%env CUDA_VISIBLE_DEVICES=0"
   ]
  },
  {
   "cell_type": "code",
   "execution_count": null,
   "metadata": {},
   "outputs": [],
   "source": [
    "import torch\n",
    "import numpy as np\n",
    "from utils import show, renormalize\n",
    "from utils import util, paintwidget, labwidget, imutil\n",
    "from networks import networks\n",
    "from PIL import Image\n",
    "import os"
   ]
  },
  {
   "cell_type": "markdown",
   "metadata": {},
   "source": [
    "### load networks, and sample images"
   ]
  },
  {
   "cell_type": "code",
   "execution_count": null,
   "metadata": {},
   "outputs": [],
   "source": [
    "nets = networks.define_nets('stylegan', 'church')\n",
    "outdim = nets.setting['outdim']"
   ]
  },
  {
   "cell_type": "code",
   "execution_count": null,
   "metadata": {},
   "outputs": [],
   "source": [
    "num_components = 4\n",
    "zs = nets.sample_zs(1000, 0)\n",
    "seeds = np.random.choice(len(zs), 4)\n",
    "\n",
    "source_zs = zs[seeds]\n",
    "\n",
    "with torch.no_grad():\n",
    "    source_ims = nets.zs2image(source_zs)"
   ]
  },
  {
   "cell_type": "code",
   "execution_count": null,
   "metadata": {},
   "outputs": [],
   "source": [
    "# display the input images\n",
    "for im in source_ims:\n",
    "    show.a([renormalize.as_image(im).resize((200, 200), Image.ANTIALIAS)])\n",
    "show.flush()"
   ]
  },
  {
   "cell_type": "markdown",
   "metadata": {},
   "source": [
    "### set up interactive panels\n",
    "Draw your mouse on the image panels. The network input will show in the second to last panel, and the network output in the last panel."
   ]
  },
  {
   "cell_type": "code",
   "execution_count": null,
   "metadata": {},
   "outputs": [],
   "source": [
    "def make_callback(painter):\n",
    "    def probe_changed(c):\n",
    "        global composite\n",
    "        global mask_composite\n",
    "        p = painter\n",
    "        if p.mask:\n",
    "            mask = renormalize.from_url(p.mask, target='pt', size=(outdim, outdim)).cuda()[None]\n",
    "        else:\n",
    "            mask = torch.zeros_like(sample)[None]\n",
    "        with torch.no_grad():\n",
    "            mask = mask[:, [0], :, :].cuda()\n",
    "            mask_composite += mask\n",
    "            sample = renormalize.from_url(p.image, size=(outdim, outdim)).cuda()[None]\n",
    "            \n",
    "            composite = sample * mask + composite * (1-mask)\n",
    "            mask_composite = torch.clamp(mask_composite, 0., 1.)\n",
    "            out = nets.invert(composite, mask_composite)\n",
    "        img_url = renormalize.as_url(composite[0], size=256)\n",
    "        img_html = '<img src=\"%s\"/>'% img_url\n",
    "        collage_div.innerHTML = img_html   \n",
    "        img_url = renormalize.as_url(out[0], size=256)\n",
    "        img_html = '<img src=\"%s\"/>'% img_url\n",
    "        encoded_div.innerHTML = img_html\n",
    "    return probe_changed"
   ]
  },
  {
   "cell_type": "code",
   "execution_count": null,
   "metadata": {},
   "outputs": [],
   "source": [
    "img_url = renormalize.as_url(torch.zeros(3, outdim, outdim), size=256)\n",
    "img_html = '<img src=\"%s\"/>'%img_url\n",
    "encoded_div = labwidget.Div(img_html)\n",
    "collage_div = labwidget.Div(img_html)\n",
    "\n",
    "painters = []\n",
    "\n",
    "composite = torch.zeros(1, 3, outdim, outdim).cuda()\n",
    "mask_composite = torch.zeros_like(composite)[:, [0], :, :]\n",
    "\n",
    "for i in range(num_components):\n",
    "    src_painter = paintwidget.PaintWidget(oneshot=False, width=256, height=256, \n",
    "                                      brushsize=20, save_sequence=False, track_move=True) # , on_move=True)\n",
    "    src_painter.image = renormalize.as_url(source_ims[i], size=256)\n",
    "    painters.append(src_painter)\n",
    "    callback = make_callback(src_painter)\n",
    "    src_painter.on('mask', callback)\n",
    "    show.a([src_painter], cols=3)\n",
    "\n",
    "show.a([collage_div], cols=3)\n",
    "show.a([encoded_div], cols=3)\n",
    "show.flush()"
   ]
  },
  {
   "cell_type": "code",
   "execution_count": null,
   "metadata": {},
   "outputs": [],
   "source": [
    "def save_drawing(save_name):\n",
    "    save_path = os.path.join('drawing/composites/%s' % save_name)\n",
    "    os.makedirs(save_path)\n",
    "    masks = []\n",
    "    for i, p in enumerate(painters):\n",
    "        if p.mask:\n",
    "            mask = renormalize.from_url(p.mask, target='pt', size=(outdim, outdim)).cuda()[None]\n",
    "        else:\n",
    "            mask = torch.zeros(1, 3, outdim, outdim).cuda()\n",
    "        with torch.no_grad():\n",
    "            mask = mask[:, [0], :, :].cuda()\n",
    "            masks.append(mask)\n",
    "            sample = renormalize.from_url(p.image, size=(outdim, outdim)).cuda()[None]\n",
    "            part = sample * mask\n",
    "        im_pil = imutil.draw_masked_image(sample, mask, size=256)[1]\n",
    "        im_pil.save(os.path.join(save_path, 'part%d.png' % i))\n",
    "        show.a(['part %d' % i, im_pil.resize((200, 200), Image.ANTIALIAS)], cols=3)\n",
    "    with torch.no_grad():\n",
    "        out = nets.invert(composite, mask_composite)\n",
    "    composite_pil = renormalize.as_image(out[0])\n",
    "    composite_pil.save(os.path.join(save_path, 'composite.png'))\n",
    "    torch.save(dict(masks=torch.cat(masks).cpu(), seeds=seeds),'%s/data.pth' % save_path)\n",
    "    show.a(['composite', composite_pil.resize((200, 200), Image.ANTIALIAS)])\n",
    "    show.flush()"
   ]
  },
  {
   "cell_type": "code",
   "execution_count": null,
   "metadata": {},
   "outputs": [],
   "source": [
    "save_drawing('church')"
   ]
  }
 ],
 "metadata": {
  "kernelspec": {
   "display_name": "latent-composition",
   "language": "python",
   "name": "latent-composition"
  },
  "language_info": {
   "codemirror_mode": {
    "name": "ipython",
    "version": 3
   },
   "file_extension": ".py",
   "mimetype": "text/x-python",
   "name": "python",
   "nbconvert_exporter": "python",
   "pygments_lexer": "ipython3",
   "version": "3.8.8"
  }
 },
 "nbformat": 4,
 "nbformat_minor": 2
}